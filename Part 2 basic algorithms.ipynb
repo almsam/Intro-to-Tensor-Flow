{
 "cells": [
  {
   "cell_type": "markdown",
   "metadata": {},
   "source": [
    "# **Neural Networks implemented in Python's Tensor flow**\n",
    "\n",
    "## **Part 2, basic algorithms:**\n",
    "\n",
    "### **Section 1, :**\n",
    "\n",
    "    First we import Tensorflow & numpy so we don't have to implement all of this from scratch"
   ]
  }
 ],
 "metadata": {
  "language_info": {
   "name": "python"
  }
 },
 "nbformat": 4,
 "nbformat_minor": 2
}
