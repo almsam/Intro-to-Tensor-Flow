{
 "cells": [
  {
   "cell_type": "markdown",
   "metadata": {},
   "source": [
    "# **Neural Networks implemented in Python's Tensor flow**\n",
    "\n",
    "## **Part 3, our First Neural Networks:**\n",
    "\n",
    "### **Section 1, :**\n",
    "\n",
    "    Lets import our stuff again"
   ]
  },
  {
   "cell_type": "code",
   "execution_count": 8,
   "metadata": {},
   "outputs": [],
   "source": [
    "import pandas as pd\n",
    "import numpy as np\n",
    "import seaborn as sns\n",
    "import matplotlib.pyplot as plt\n",
    "\n",
    "import tensorflow as tf\n",
    "from tensorflow import keras\n",
    "from tensorflow.keras import layers # type: ignore\n",
    "import tensorflow.compat.v2.feature_column as fc # type: ignore\n",
    "import tensorflow.compat.v1 as tf1 # type: ignore"
   ]
  },
  {
   "cell_type": "markdown",
   "metadata": {},
   "source": [
    "    Our dataset for today is the fassion dataset from keras, imported as follows"
   ]
  },
  {
   "cell_type": "code",
   "execution_count": 12,
   "metadata": {},
   "outputs": [
    {
     "data": {
      "text/plain": [
       "(60000, 28, 28)"
      ]
     },
     "execution_count": 12,
     "metadata": {},
     "output_type": "execute_result"
    }
   ],
   "source": [
    "fashion_mnist = keras.datasets.fashion_mnist\n",
    "(train_images, train_labels), (test_images, test_labels) = fashion_mnist.load_data()  # split test & train\n",
    "train_images.shape"
   ]
  },
  {
   "cell_type": "markdown",
   "metadata": {},
   "source": [
    "    As we can see our dataset appears to be 60,000 images of 28*28 pixels\n",
    "    So lets snoop 1 of these pixels"
   ]
  },
  {
   "cell_type": "code",
   "execution_count": 13,
   "metadata": {},
   "outputs": [
    {
     "data": {
      "text/plain": [
       "194"
      ]
     },
     "execution_count": 13,
     "metadata": {},
     "output_type": "execute_result"
    }
   ],
   "source": [
    "train_images[0,23,23]"
   ]
  },
  {
   "cell_type": "markdown",
   "metadata": {},
   "source": [
    "    Hmm, 194? that doesn't mean much, lets try this:"
   ]
  },
  {
   "cell_type": "code",
   "execution_count": 32,
   "metadata": {},
   "outputs": [
    {
     "name": "stdout",
     "output_type": "stream",
     "text": [
      "[[[  0   0   0   0   0   0   0   0   0   0   0   0   0   0   0   0   0\n",
      "     0   0   0   0   0   0   0   0   0   0   0]\n",
      "  [  0   0   0   0   0   0   0   0   0   0   0   0   0   0   0   0   0\n",
      "     0   0   0   0   0   0   0   0   0   0   0]\n",
      "  [  0   0   0   0   0   0   0   0   0   0   0   0   0   0   0   0   0\n",
      "     0   0   0   0   0   0   0   0   0   0   0]\n",
      "  [  0   0   0   0   0   0   0   0   0   0   0   0   0   0   0   0   0\n",
      "     0   0   0   0   0   0   0   0   0   0   0]\n",
      "  [  0   0   0   0   0   0   0   0   0   0   0   0   0   0   0   0   0\n",
      "     0   0   0   0   0   0   0   0   0   0   0]\n",
      "  [  0   0   0   0   0   0   0   0   0   0   0   0   0   0  85 188 146\n",
      "    79   0   0   0   0   0   0   0   0   0   0]\n",
      "  [  0   0   0   0   0   0   0   0   0   0   0   0   0   0 140 202 199\n",
      "   255 144   0   0   0   0  11 135 157   5   0]\n",
      "  [  0   0   0   0   0   0   0   0   0   0   0   3   0   0 200 187 200\n",
      "   191 255  51   0   0  16 208 227 236  63   0]\n",
      "  [  0   0   0   0   0   0   0   0   0   0   0   2   0  18 233 193 206\n",
      "   186 219 255 171 140 255 221 203 217  43   0]\n",
      "  [  0   0   0   0   0   0   0   0   0   0   0   0   0 107 217 195 203\n",
      "   204 209 216 244 255 213 207 218 228  72   0]\n",
      "  [  0   0   0   0   0   0   0   0   0   0   0   0   0 231 216 209 204\n",
      "   205 217 218 214 213 201 210 215 233 128   0]\n",
      "  [  0   0   0   0   0   0   0   0   0   0   1   0  33 255 206 214 204\n",
      "   213 218 213 217 222 196 201 205 231 185   0]\n",
      "  [  0   0   0   0   0   0   0   0   0   9   2   0 159 234 193 209 206\n",
      "   215 218 217 221 210 201 205 214 219 249   0]\n",
      "  [  0   0   0   0   0   0   0   0   1   0   0  77 255 219 207 204 205\n",
      "   213 213 215 213 203 211 217 217 202 255  71]\n",
      "  [  0   0   1   2   3   3   1   0   0   0 121 245 214 219 210 200 205\n",
      "   215 215 219 214 204 208 213 214 201 246 118]\n",
      "  [  0   0   0   0   0   0   0   0  78 216 255 208 205 214 197 202 214\n",
      "   211 210 213 211 208 214 204 208 207 237 136]\n",
      "  [  0   0   0   0  19  87 135 211 255 217 202 206 214 209 198 202 214\n",
      "   214 211 213 200 207 212 201 198 203 243 130]\n",
      "  [  0  64 190 219 241 214 227 216 194 193 199 201 201 213 204 198 201\n",
      "   205 208 202 202 205 196 198 202 201 255  73]\n",
      "  [ 23 214 209 198 198 195 200 194 212 201 201 203 204 211 204 199 199\n",
      "   195 194 181 187 212 208 201 212 219 245  11]\n",
      "  [129 220 200 207 206 204 191 202 209 212 211 207 204 202 198 206 209\n",
      "   198 204 222 246 223 197 179 165 163 179   0]\n",
      "  [125 232 211 205 213 212 215 216 214 207 200 197 200 197 205 204 213\n",
      "   226 240 176  91 163 164 159 162 173 198   0]\n",
      "  [  0 146 212 229 215 213 203 198 206 203 202 202 197 196 208 227 225\n",
      "   112   0   0   0 185 160 161 155 167 204   0]\n",
      "  [  0   0   5 117 211 237 255 244 231 225 216 220 228 255 245 122   0\n",
      "     0   0   0   0 231 214 212 221 201 228   6]\n",
      "  [  0   2   0   0   0   0  66 116 160 191 207 207 200 120   0   0   0\n",
      "     0   2   0   0  95  85  79  67  51   0   0]\n",
      "  [  0   0   0   0   0   0   0   0   0   0   0   0   0   0   0   0   0\n",
      "     0   0   0   0   0   0   0   0   0   0   0]\n",
      "  [  0   0   0   0   0   0   0   0   0   0   0   0   0   0   0   0   0\n",
      "     0   0   0   0   0   0   0   0   0   0   0]\n",
      "  [  0   0   0   0   0   0   0   0   0   0   0   0   0   0   0   0   0\n",
      "     0   0   0   0   0   0   0   0   0   0   0]\n",
      "  [  0   0   0   0   0   0   0   0   0   0   0   0   0   0   0   0   0\n",
      "     0   0   0   0   0   0   0   0   0   0   0]]]\n"
     ]
    }
   ],
   "source": [
    "print(train_images[15:16])"
   ]
  },
  {
   "cell_type": "markdown",
   "metadata": {},
   "source": [
    "    so from this we can conclude each one is a B/W pixel from 0 to 255 - & the edges have white pixels"
   ]
  }
 ],
 "metadata": {
  "kernelspec": {
   "display_name": "Python 3",
   "language": "python",
   "name": "python3"
  },
  "language_info": {
   "codemirror_mode": {
    "name": "ipython",
    "version": 3
   },
   "file_extension": ".py",
   "mimetype": "text/x-python",
   "name": "python",
   "nbconvert_exporter": "python",
   "pygments_lexer": "ipython3",
   "version": "3.12.3"
  }
 },
 "nbformat": 4,
 "nbformat_minor": 2
}
