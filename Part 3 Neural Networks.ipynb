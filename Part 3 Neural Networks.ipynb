{
 "cells": [
  {
   "cell_type": "markdown",
   "metadata": {},
   "source": [
    "# **Neural Networks implemented in Python's Tensor flow**\n",
    "\n",
    "## **Part 3, our First Neural Networks:**\n",
    "\n",
    "### **Section 1, :**\n",
    "\n",
    "    Lets import our stuff again"
   ]
  }
 ],
 "metadata": {
  "language_info": {
   "name": "python"
  }
 },
 "nbformat": 4,
 "nbformat_minor": 2
}
