{
 "cells": [
  {
   "cell_type": "markdown",
   "metadata": {},
   "source": [
    "\n",
    "# **Neural Networks implemented in Python's Tensor flow**\n",
    "\n",
    "## **Part 1, fundementals:**\n",
    "\n",
    "    first we import Tensorflow & numpy so we don't have to implement all of this from scratch"
   ]
  },
  {
   "cell_type": "code",
   "execution_count": null,
   "metadata": {},
   "outputs": [],
   "source": []
  }
 ],
 "metadata": {
  "language_info": {
   "name": "python"
  }
 },
 "nbformat": 4,
 "nbformat_minor": 2
}
