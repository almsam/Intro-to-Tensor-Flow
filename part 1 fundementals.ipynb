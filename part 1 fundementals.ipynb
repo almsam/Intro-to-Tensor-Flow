{
 "cells": [
  {
   "cell_type": "markdown",
   "metadata": {},
   "source": [
    "\n",
    "# **Neural Networks implemented in Python's Tensor flow**\n",
    "\n",
    "## **Part 1, fundementals:**\n",
    "\n",
    "### **Section 1, making tensors:**\n",
    "\n",
    "    First we import Tensorflow & numpy so we don't have to implement all of this from scratch"
   ]
  },
  {
   "cell_type": "code",
   "execution_count": 3,
   "metadata": {
    "metadata": {}
   },
   "outputs": [],
   "source": [
    "import pandas as pd\n",
    "import numpy as np\n",
    "import seaborn as sns\n",
    "import tensorflow as tf"
   ]
  },
  {
   "cell_type": "code",
   "execution_count": 4,
   "metadata": {},
   "outputs": [
    {
     "name": "stdout",
     "output_type": "stream",
     "text": [
      "<module 'tensorflow._api.v2.version' from 'C:\\\\Users\\\\samia\\\\AppData\\\\Local\\\\Packages\\\\PythonSoftwareFoundation.Python.3.12_qbz5n2kfra8p0\\\\LocalCache\\\\local-packages\\\\Python312\\\\site-packages\\\\tensorflow\\\\_api\\\\v2\\\\version\\\\__init__.py'>\n"
     ]
    }
   ],
   "source": [
    "print(tf.version)"
   ]
  },
  {
   "cell_type": "markdown",
   "metadata": {},
   "source": [
    "    Now lets create our first tensors\n",
    "    Each tensor has a datatype & a shape attribute\n",
    "    Usually they hold numbers, but lets create a couple of datatypes"
   ]
  },
  {
   "cell_type": "code",
   "execution_count": 5,
   "metadata": {},
   "outputs": [],
   "source": [
    "string = tf.Variable(\"this string will be added to the tensor\", tf.string)\n",
    "number = tf.Variable(1231234213, tf.int16)\n",
    "float = tf.Variable(3.14159, tf.float64) "
   ]
  },
  {
   "cell_type": "code",
   "execution_count": 7,
   "metadata": {},
   "outputs": [
    {
     "name": "stdout",
     "output_type": "stream",
     "text": [
      "<tf.Variable 'Variable:0' shape=() dtype=string, numpy=b'this string will be added to the tensor'>\n",
      "<tf.Variable 'Variable:0' shape=() dtype=int32, numpy=1231234213>\n",
      "<tf.Variable 'Variable:0' shape=() dtype=float32, numpy=3.14159>\n"
     ]
    }
   ],
   "source": [
    "print(string); print(number); print(float)"
   ]
  },
  {
   "cell_type": "markdown",
   "metadata": {},
   "source": [
    "    And to create tensors of a rank of 1, 2, or 3, we do as follows\n",
    "    Rank and degree both being terms for the number of dimensions"
   ]
  },
  {
   "cell_type": "code",
   "execution_count": 40,
   "metadata": {},
   "outputs": [],
   "source": [
    "rank1 = tf.Variable([\"rank1\"], tf.string)\n",
    "\n",
    "rank2 = tf.Variable(\n",
    "    [[\"rank2 1a\", \"2a\"],[\"rank2 1b\", \"2b\"]\n",
    "], tf.string)\n",
    "\n",
    "rank3 = tf.Variable([\n",
    "    [[\"rank3 1a\", \"1b\"], [\"1c\", \"1d\"]],\n",
    "    [[\"rank3 2a\", \"2b\"], [\"2c\", \"2d\"]]\n",
    "], tf.string)\n",
    "\n",
    "\n",
    "rank4 = tf.Variable([\n",
    "    [\n",
    "        [[\"rank4 1a\", \"1b\"], [\"1c\", \"1d\"]],\n",
    "        [[\"rank4 2a\", \"2b\"], [\"2c\", \"2d\"]]],[\n",
    "        [[\"rank4 3a\", \"3b\"], [\"3c\", \"3d\"]],\n",
    "        [[\"rank4 4a\", \"4b\"], [\"4c\", \"4d\"]]\n",
    "    ]\n",
    "], tf.string)"
   ]
  },
  {
   "cell_type": "code",
   "execution_count": 41,
   "metadata": {},
   "outputs": [
    {
     "name": "stdout",
     "output_type": "stream",
     "text": [
      "Rank 1: [\"rank1\"]\n",
      "\n",
      "Rank 2: [[\"rank2 1a\" \"2a\"]\n",
      " [\"rank2 1b\" \"2b\"]]\n",
      "\n",
      "Rank 3: [[[\"rank3 1a\" \"1b\"]\n",
      "  [\"1c\" \"1d\"]]\n",
      "\n",
      " [[\"rank3 2a\" \"2b\"]\n",
      "  [\"2c\" \"2d\"]]]\n",
      "\n",
      "Rank 4: [[[[\"rank4 1a\" \"1b\"]\n",
      "   [\"1c\" \"1d\"]]\n",
      "\n",
      "  [[\"rank4 2a\" \"2b\"]\n",
      "   [\"2c\" \"2d\"]]]\n",
      "\n",
      "\n",
      " [[[\"rank4 3a\" \"3b\"]\n",
      "   [\"3c\" \"3d\"]]\n",
      "\n",
      "  [[\"rank4 4a\" \"4b\"]\n",
      "   [\"4c\" \"4d\"]]]]\n",
      "\n"
     ]
    }
   ],
   "source": [
    "all_ranks = [rank1, rank2, rank3, rank4]\n",
    "for i, rank in enumerate(all_ranks):\n",
    "    tf.print(f\"Rank {i+1}:\", rank)\n",
    "    # tf.print(f\"Rank {i+1} shape:\", rank.shape)\n",
    "    print(\"\")"
   ]
  },
  {
   "cell_type": "code",
   "execution_count": 42,
   "metadata": {},
   "outputs": [
    {
     "name": "stdout",
     "output_type": "stream",
     "text": [
      "Rank 1 shape: TensorShape([1])\n",
      "Rank 2 shape: TensorShape([2, 2])\n",
      "Rank 3 shape: TensorShape([2, 2, 2])\n",
      "Rank 4 shape: TensorShape([2, 2, 2, 2])\n"
     ]
    }
   ],
   "source": [
    "all_ranks = [rank1, rank2, rank3, rank4]\n",
    "for i, rank in enumerate(all_ranks):\n",
    "    tf.print(f\"Rank {i+1} shape:\", rank.shape)"
   ]
  },
  {
   "cell_type": "markdown",
   "metadata": {},
   "source": [
    "    Of course these don't need to be square"
   ]
  },
  {
   "cell_type": "code",
   "execution_count": 43,
   "metadata": {},
   "outputs": [
    {
     "name": "stdout",
     "output_type": "stream",
     "text": [
      "[\"rank1\" \"rank1\" \"rank1\" ... \"rank1\" \"rank1\" \"rank1\"]\n",
      "TensorShape([8])\n"
     ]
    }
   ],
   "source": [
    "rank1a = tf.Variable([\"rank1\", \"rank1\", \"rank1\", \"rank1\", \"rank1\", \"rank1\", \"rank1\", \"rank1\"], tf.string);  tf.print(rank1a);   tf.print(rank1a.shape)"
   ]
  },
  {
   "cell_type": "code",
   "execution_count": 44,
   "metadata": {},
   "outputs": [
    {
     "name": "stdout",
     "output_type": "stream",
     "text": [
      "[[\"rank2 1a\" \"2a\" \"3a\" \"4a\" \"5a\"]\n",
      " [\"rank2 1b\" \"2b\" \"3b\" \"4b\" \"5b\"]]\n",
      "TensorShape([2, 5])\n"
     ]
    }
   ],
   "source": [
    "rank2a = tf.Variable(\n",
    "    [[\"rank2 1a\", \"2a\", \"3a\", \"4a\", \"5a\"],[\"rank2 1b\", \"2b\", \"3b\", \"4b\", \"5b\"]\n",
    "], tf.string);  tf.print(rank2a);   tf.print(rank2a.shape)"
   ]
  },
  {
   "cell_type": "markdown",
   "metadata": {},
   "source": [
    "    But they do need to be rectangular"
   ]
  },
  {
   "cell_type": "code",
   "execution_count": 45,
   "metadata": {},
   "outputs": [
    {
     "name": "stdout",
     "output_type": "stream",
     "text": [
      "Error: Can't convert non-rectangular Python sequence to Tensor.\n"
     ]
    }
   ],
   "source": [
    "try:\n",
    "    rank3a = tf.Variable(\n",
    "        [[\"rank2 1a\", \"2a\", \"3a\", \"4a\", \"5a\"],[\"rank2 1b\", \"2b\"]\n",
    "    ], tf.string);  tf.print(rank3a)\n",
    "except ValueError as e:\n",
    "    print(f\"Error: {e}\")"
   ]
  },
  {
   "cell_type": "markdown",
   "metadata": {},
   "source": [
    "    But once you follow the above rules you can now build a large tensor & process it efficiently"
   ]
  },
  {
   "cell_type": "code",
   "execution_count": 49,
   "metadata": {},
   "outputs": [
    {
     "name": "stdout",
     "output_type": "stream",
     "text": [
      "Shape of rank5: [5 5 5 5 5]\n"
     ]
    }
   ],
   "source": [
    "\n",
    "rank5 = tf.Variable(\n",
    "    [[[[[\"rank5\"] * 5 for _ in range(5)] for _ in range(5)] for _ in range(5)] for _ in range(5)],\n",
    "    tf.string\n",
    ")\n",
    "\n",
    "# tf.print(\"Stuff in rank5:\", (rank5))\n",
    "tf.print(\"Shape of rank5:\", tf.shape(rank5))\n"
   ]
  },
  {
   "cell_type": "markdown",
   "metadata": {},
   "source": [
    "### **Some useful tools:**\n",
    "\n",
    "    We've already used tf.print to make the output look better\n",
    "    And we can also use tf.ones to make a tensor of ones"
   ]
  },
  {
   "cell_type": "code",
   "execution_count": 54,
   "metadata": {},
   "outputs": [
    {
     "name": "stdout",
     "output_type": "stream",
     "text": [
      "TensorShape([2, 3, 5])\n",
      "[[[1 1 1 1 1]\n",
      "  [1 1 1 1 1]\n",
      "  [1 1 1 1 1]]\n",
      "\n",
      " [[1 1 1 1 1]\n",
      "  [1 1 1 1 1]\n",
      "  [1 1 1 1 1]]]\n"
     ]
    }
   ],
   "source": [
    "tensor1 = tf.ones([2, 3, 5])\n",
    "tf.print(tensor1.shape); tf.print(tensor1)"
   ]
  },
  {
   "cell_type": "markdown",
   "metadata": {},
   "source": [
    "### **Section 2, changing the shape of tensors:**\n",
    "\n",
    "    Now lets see how we can reshape this tensor\n",
    "\n",
    "    Here we reshape to a specific thing"
   ]
  },
  {
   "cell_type": "code",
   "execution_count": 57,
   "metadata": {},
   "outputs": [
    {
     "name": "stdout",
     "output_type": "stream",
     "text": [
      "TensorShape([5, 2, 3])\n",
      "[[[1 1 1]\n",
      "  [1 1 1]]\n",
      "\n",
      " [[1 1 1]\n",
      "  [1 1 1]]\n",
      "\n",
      " [[1 1 1]\n",
      "  [1 1 1]]\n",
      "\n",
      " [[1 1 1]\n",
      "  [1 1 1]]\n",
      "\n",
      " [[1 1 1]\n",
      "  [1 1 1]]]\n"
     ]
    }
   ],
   "source": [
    "tensorReshaped = tf.reshape(tensor1, [5, 2, 3])\n",
    "tf.print(tensorReshaped.shape); tf.print(tensorReshaped)"
   ]
  },
  {
   "cell_type": "markdown",
   "metadata": {},
   "source": [
    "    But we could also ask it to reshape 1 dimension & calculate the rest itself (with a -1)"
   ]
  },
  {
   "cell_type": "code",
   "execution_count": 58,
   "metadata": {},
   "outputs": [
    {
     "name": "stdout",
     "output_type": "stream",
     "text": [
      "TensorShape([5, 6])\n",
      "[[1 1 1 1 1 1]\n",
      " [1 1 1 1 1 1]\n",
      " [1 1 1 1 1 1]\n",
      " [1 1 1 1 1 1]\n",
      " [1 1 1 1 1 1]]\n"
     ]
    }
   ],
   "source": [
    "tensorReshaped = tf.reshape(tensor1, [5, -1])\n",
    "tf.print(tensorReshaped.shape); tf.print(tensorReshaped)"
   ]
  },
  {
   "cell_type": "markdown",
   "metadata": {},
   "source": [
    "### **Lets make something cool now:**\n",
    "\n",
    "    In addition to tf.print & tf.ones:\n",
    "    We can tf.zeros for a 0 tensor"
   ]
  },
  {
   "cell_type": "code",
   "execution_count": 69,
   "metadata": {},
   "outputs": [
    {
     "name": "stdout",
     "output_type": "stream",
     "text": [
      "TensorShape([1, 3, 6])\n",
      "[[[0 0 0 0 0 0]\n",
      "  [0 0 0 0 0 0]\n",
      "  [0 0 0 0 0 0]]]\n"
     ]
    }
   ],
   "source": [
    "tensor0 = tf.zeros([1, 3, 6])\n",
    "tf.print(tensor0.shape); tf.print(tensor0)"
   ]
  },
  {
   "cell_type": "markdown",
   "metadata": {},
   "source": [
    "    or tf.eye for the identity matrix"
   ]
  },
  {
   "cell_type": "code",
   "execution_count": 80,
   "metadata": {},
   "outputs": [
    {
     "name": "stdout",
     "output_type": "stream",
     "text": [
      "TensorShape([5, 5])\n",
      "[[1 0 0 0 0]\n",
      " [0 1 0 0 0]\n",
      " [0 0 1 0 0]\n",
      " [0 0 0 1 0]\n",
      " [0 0 0 0 1]]\n"
     ]
    }
   ],
   "source": [
    "tensorI = tf.eye(5)\n",
    "tf.print(tensorI.shape); tf.print(tensorI)"
   ]
  },
  {
   "cell_type": "code",
   "execution_count": null,
   "metadata": {},
   "outputs": [],
   "source": [
    "\n"
   ]
  }
 ],
 "metadata": {
  "kernelspec": {
   "display_name": "base",
   "language": "python",
   "name": "python3"
  },
  "language_info": {
   "codemirror_mode": {
    "name": "ipython",
    "version": 3
   },
   "file_extension": ".py",
   "mimetype": "text/x-python",
   "name": "python",
   "nbconvert_exporter": "python",
   "pygments_lexer": "ipython3",
   "version": "3.12.3"
  }
 },
 "nbformat": 4,
 "nbformat_minor": 2
}
