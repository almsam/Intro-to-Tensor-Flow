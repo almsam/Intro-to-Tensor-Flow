{
 "cells": [
  {
   "cell_type": "markdown",
   "metadata": {},
   "source": [
    "\n",
    "# **Neural Networks implemented in Python's Tensor flow**\n",
    "\n",
    "## **Part 1, fundementals:**\n",
    "\n",
    "    first we import Tensorflow & numpy so we don't have to implement all of this from scratch"
   ]
  },
  {
   "cell_type": "code",
   "execution_count": 3,
   "metadata": {
    "metadata": {}
   },
   "outputs": [],
   "source": [
    "import pandas as pd\n",
    "import numpy as np\n",
    "import seaborn as sns\n",
    "import tensorflow as tf"
   ]
  },
  {
   "cell_type": "code",
   "execution_count": 4,
   "metadata": {},
   "outputs": [
    {
     "name": "stdout",
     "output_type": "stream",
     "text": [
      "<module 'tensorflow._api.v2.version' from 'C:\\\\Users\\\\samia\\\\AppData\\\\Local\\\\Packages\\\\PythonSoftwareFoundation.Python.3.12_qbz5n2kfra8p0\\\\LocalCache\\\\local-packages\\\\Python312\\\\site-packages\\\\tensorflow\\\\_api\\\\v2\\\\version\\\\__init__.py'>\n"
     ]
    }
   ],
   "source": [
    "print(tf.version)"
   ]
  },
  {
   "cell_type": "markdown",
   "metadata": {},
   "source": [
    "    now lets create our first tensors\n",
    "    each tensor has a datatype & a shape attribute\n",
    "    usually they hold numbers, but lets create a couple of datatypes"
   ]
  },
  {
   "cell_type": "code",
   "execution_count": 5,
   "metadata": {},
   "outputs": [],
   "source": [
    "string = tf.Variable(\"this string will be added to the tensor\", tf.string)\n",
    "number = tf.Variable(1231234213, tf.int16)\n",
    "float = tf.Variable(3.14159, tf.float64) "
   ]
  },
  {
   "cell_type": "code",
   "execution_count": 7,
   "metadata": {},
   "outputs": [
    {
     "name": "stdout",
     "output_type": "stream",
     "text": [
      "<tf.Variable 'Variable:0' shape=() dtype=string, numpy=b'this string will be added to the tensor'>\n",
      "<tf.Variable 'Variable:0' shape=() dtype=int32, numpy=1231234213>\n",
      "<tf.Variable 'Variable:0' shape=() dtype=float32, numpy=3.14159>\n"
     ]
    }
   ],
   "source": [
    "print(string); print(number); print(float)"
   ]
  },
  {
   "cell_type": "markdown",
   "metadata": {},
   "source": [
    "    and to create tensors of a rank of 1, 2, or 3, we do as follows\n",
    "    rank and degree both being terms for the number of dimensions"
   ]
  },
  {
   "cell_type": "code",
   "execution_count": 12,
   "metadata": {},
   "outputs": [],
   "source": [
    "rank1 = tf.Variable([\"rank1\"], tf.string)\n",
    "\n",
    "rank2 = tf.Variable(\n",
    "    [[\"rank2 1a\", \"2a\"],[\"rank2 1b\", \"2b\"]\n",
    "], tf.string)\n",
    "\n",
    "rank3 = tf.Variable([\n",
    "    [[\"rank3 1a\", \"1b\"], [\"1c\", \"1d\"]],\n",
    "    [[\"rank3 2a\", \"2b\"], [\"2c\", \"2d\"]]\n",
    "], tf.string)\n",
    "\n",
    "\n",
    "rank4 = tf.Variable([\n",
    "    [\n",
    "        [[\"rank4 1a\", \"1b\"], [\"1c\", \"1d\"]],\n",
    "        [[\"rank4 2a\", \"2b\"], [\"2c\", \"2d\"]]],[\n",
    "        [[\"rank4 3a\", \"3b\"], [\"3c\", \"3d\"]],\n",
    "        [[\"rank4 4a\", \"4b\"], [\"4c\", \"4d\"]]\n",
    "    ]\n",
    "], tf.string)"
   ]
  },
  {
   "cell_type": "code",
   "execution_count": 14,
   "metadata": {},
   "outputs": [
    {
     "name": "stdout",
     "output_type": "stream",
     "text": [
      "Rank 1: [\"rank1\"]\n",
      "Rank 2: [[\"rank2 1a\" \"2a\"]\n",
      " [\"rank2 1b\" \"2b\"]]\n",
      "Rank 3: [[[\"rank3 1a\" \"1b\"]\n",
      "  [\"1c\" \"1d\"]]\n",
      "\n",
      " [[\"rank3 2a\" \"2b\"]\n",
      "  [\"2c\" \"2d\"]]]\n",
      "Rank 4: [[[[\"rank4 1a\" \"1b\"]\n",
      "   [\"1c\" \"1d\"]]\n",
      "\n",
      "  [[\"rank4 2a\" \"2b\"]\n",
      "   [\"2c\" \"2d\"]]]\n",
      "\n",
      "\n",
      " [[[\"rank4 3a\" \"3b\"]\n",
      "   [\"3c\" \"3d\"]]\n",
      "\n",
      "  [[\"rank4 4a\" \"4b\"]\n",
      "   [\"4c\" \"4d\"]]]]\n"
     ]
    }
   ],
   "source": [
    "all_ranks = [rank1, rank2, rank3, rank4]\n",
    "for i, rank in enumerate(all_ranks):\n",
    "    tf.print(f\"Rank {i+1}:\", rank)"
   ]
  },
  {
   "cell_type": "markdown",
   "metadata": {},
   "source": [
    "    of course these don't need to be square"
   ]
  },
  {
   "cell_type": "code",
   "execution_count": 18,
   "metadata": {},
   "outputs": [
    {
     "name": "stdout",
     "output_type": "stream",
     "text": [
      "<tf.Variable 'Variable:0' shape=(8,) dtype=string, numpy=\n",
      "array([b'rank1', b'rank1', b'rank1', b'rank1', b'rank1', b'rank1',\n",
      "       b'rank1', b'rank1'], dtype=object)>\n"
     ]
    }
   ],
   "source": [
    "rank1a = tf.Variable([\"rank1\", \"rank1\", \"rank1\", \"rank1\", \"rank1\", \"rank1\", \"rank1\", \"rank1\"], tf.string);  print(rank1a)"
   ]
  },
  {
   "cell_type": "code",
   "execution_count": 21,
   "metadata": {},
   "outputs": [
    {
     "name": "stdout",
     "output_type": "stream",
     "text": [
      "<tf.Variable 'Variable:0' shape=(2, 5) dtype=string, numpy=\n",
      "array([[b'rank2 1a', b'2a', b'3a', b'4a', b'5a'],\n",
      "       [b'rank2 1b', b'2b', b'3b', b'4b', b'5b']], dtype=object)>\n"
     ]
    }
   ],
   "source": [
    "rank2a = tf.Variable(\n",
    "    [[\"rank2 1a\", \"2a\", \"3a\", \"4a\", \"5a\"],[\"rank2 1b\", \"2b\", \"3b\", \"4b\", \"5b\"]\n",
    "], tf.string);  print(rank2a)"
   ]
  },
  {
   "cell_type": "markdown",
   "metadata": {},
   "source": [
    "    but they do need to be rectangular"
   ]
  },
  {
   "cell_type": "code",
   "execution_count": 24,
   "metadata": {},
   "outputs": [
    {
     "name": "stdout",
     "output_type": "stream",
     "text": [
      "Error: Can't convert non-rectangular Python sequence to Tensor.\n"
     ]
    }
   ],
   "source": [
    "try:\n",
    "    rank3a = tf.Variable(\n",
    "        [[\"rank2 1a\", \"2a\", \"3a\", \"4a\", \"5a\"],[\"rank2 1b\", \"2b\"]\n",
    "    ], tf.string);  print(rank3a)\n",
    "except ValueError as e:\n",
    "    print(f\"Error: {e}\")"
   ]
  }
 ],
 "metadata": {
  "kernelspec": {
   "display_name": "base",
   "language": "python",
   "name": "python3"
  },
  "language_info": {
   "codemirror_mode": {
    "name": "ipython",
    "version": 3
   },
   "file_extension": ".py",
   "mimetype": "text/x-python",
   "name": "python",
   "nbconvert_exporter": "python",
   "pygments_lexer": "ipython3",
   "version": "3.12.3"
  }
 },
 "nbformat": 4,
 "nbformat_minor": 2
}
